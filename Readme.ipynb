{
 "metadata": {
  "language": "Julia",
  "name": "",
  "signature": "sha256:8093ba5eae2df430ea97cfa56774ff40c152f8f32086492c83ca958cb7f6f6b2"
 },
 "nbformat": 3,
 "nbformat_minor": 0,
 "worksheets": [
  {
   "cells": [
    {
     "cell_type": "markdown",
     "metadata": {},
     "source": [
      "# jest\n",
      "\n",
      "Jest enables you to write clean simple test suites in Julia. It comes in the form of a command line tool wrapping the normal `julia` command\n",
      "\n",
      "## Installation\n",
      "\n",
      "With [packin](//github.com/jkroso/packin): `packin add jkroso/jest`"
     ]
    },
    {
     "cell_type": "code",
     "collapsed": false,
     "input": [
      "@require \"jest\";"
     ],
     "language": "python",
     "metadata": {},
     "outputs": [],
     "prompt_number": 1
    },
    {
     "cell_type": "markdown",
     "metadata": {},
     "source": [
      "## API"
     ]
    },
    {
     "cell_type": "markdown",
     "metadata": {},
     "source": [
      "### suite(f::Function, title::String)\n",
      "\n",
      "Creates a new `Suite` called `title`, switches it in for the current suite, then invokes `f` before swapping back the previous suite as the current suite. It is assumed that `f` will define some more tests and/or suites"
     ]
    },
    {
     "cell_type": "code",
     "collapsed": false,
     "input": [
      "suite(\"my tests\") do\n",
      "    # some tests and/or nested suites\n",
      "end"
     ],
     "language": "python",
     "metadata": {},
     "outputs": [
      {
       "metadata": {},
       "output_type": "pyout",
       "prompt_number": 2,
       "text": [
        "Suite(\"my tests\",Runnable[])"
       ]
      }
     ],
     "prompt_number": 2
    },
    {
     "cell_type": "markdown",
     "metadata": {},
     "source": [
      "### test(f::Function, title::String)\n",
      "\n",
      "Add a test to the current `Suite`. If `f` returns true when invoked the test will pass otherwise its a failiure"
     ]
    },
    {
     "cell_type": "code",
     "collapsed": false,
     "input": [
      "test(\":(1 == 1)\") do\n",
      "    1 == 1\n",
      "end"
     ],
     "language": "python",
     "metadata": {},
     "outputs": [
      {
       "metadata": {},
       "output_type": "pyout",
       "prompt_number": 3,
       "text": [
        "Test((anonymous function),\":(1 == 1)\",Dict{Any,Any}())"
       ]
      }
     ],
     "prompt_number": 3
    },
    {
     "cell_type": "markdown",
     "metadata": {},
     "source": [
      "There is also a macro which makes it easier to define simple tests like the one above"
     ]
    },
    {
     "cell_type": "code",
     "collapsed": false,
     "input": [
      "@test 1 == 1"
     ],
     "language": "python",
     "metadata": {},
     "outputs": [
      {
       "metadata": {},
       "output_type": "pyout",
       "prompt_number": 4,
       "text": [
        "Test((anonymous function),\":(1 == 1)\",Dict{Any,Any}())"
       ]
      }
     ],
     "prompt_number": 4
    },
    {
     "cell_type": "markdown",
     "metadata": {},
     "source": [
      "### run()\n",
      "\n",
      "Runs the test suite and return a `Vector` of results"
     ]
    },
    {
     "cell_type": "code",
     "collapsed": false,
     "input": [
      "run()"
     ],
     "language": "python",
     "metadata": {},
     "outputs": [
      {
       "metadata": {},
       "output_type": "pyout",
       "prompt_number": 5,
       "text": [
        "2-element Array{Result,1}:\n",
        " Result(Test((anonymous function),\":(1 == 1)\",Dict{Any,Any}()),0.001550395,true)\n",
        " Result(Test((anonymous function),\":(1 == 1)\",Dict{Any,Any}()),0.001737854,true)"
       ]
      }
     ],
     "prompt_number": 5
    },
    {
     "cell_type": "markdown",
     "metadata": {},
     "source": [
      "## Examples\n",
      "\n",
      "See [test.jl](test.jl) for a more complete set of API examples. It can be run with `$ make test`"
     ]
    }
   ],
   "metadata": {}
  }
 ]
}