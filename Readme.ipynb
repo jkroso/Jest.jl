{
 "cells": [
  {
   "cell_type": "markdown",
   "metadata": {},
   "source": [
    "# jest\n",
    "\n",
    "Jest enables you to embed tests in the same file as the code it tests. This makes for a really nice interactive development workflow and can help the reader understand your code\n",
    "\n",
    "## Installation\n",
    "\n",
    "With [packin](//github.com/jkroso/packin): `packin add jkroso/jest`"
   ]
  },
  {
   "cell_type": "code",
   "execution_count": 1,
   "metadata": {
    "collapsed": false
   },
   "outputs": [],
   "source": [
    "@require \"jest\" test @catch @assert;"
   ]
  },
  {
   "cell_type": "markdown",
   "metadata": {},
   "source": [
    "## API"
   ]
  },
  {
   "cell_type": "markdown",
   "metadata": {},
   "source": [
    "### @assert\n",
    "\n",
    "Takes an expression and runs it returning a `Result` which tells you how long the expression took to evaluate and whether or not it returned `true` or `false`."
   ]
  },
  {
   "cell_type": "code",
   "execution_count": 2,
   "metadata": {
    "collapsed": false
   },
   "outputs": [],
   "source": [
    "@assert true"
   ]
  },
  {
   "cell_type": "markdown",
   "metadata": {},
   "source": [
    "`true` is considered a passed test."
   ]
  },
  {
   "cell_type": "code",
   "execution_count": 3,
   "metadata": {
    "collapsed": false
   },
   "outputs": [
    {
     "data": {
      "text/html": [
       "<div style=\"padding:1px 5px;font-size:14px;color:red;\">✗ 1ms</div>"
      ],
      "text/plain": [
       "✗ 1ms"
      ]
     },
     "execution_count": 3,
     "metadata": {},
     "output_type": "execute_result"
    }
   ],
   "source": [
    "@assert false"
   ]
  },
  {
   "cell_type": "markdown",
   "metadata": {},
   "source": [
    "While `false` denotes a failiure"
   ]
  },
  {
   "cell_type": "markdown",
   "metadata": {},
   "source": [
    "### @catch\n",
    "\n",
    "Takes an expression that throws an error, catches it and returns it."
   ]
  },
  {
   "cell_type": "code",
   "execution_count": 4,
   "metadata": {
    "collapsed": false
   },
   "outputs": [
    {
     "data": {
      "text/plain": [
       "ErrorException(\"boom\")"
      ]
     },
     "execution_count": 4,
     "metadata": {},
     "output_type": "execute_result"
    }
   ],
   "source": [
    "@catch error(\"boom\")"
   ]
  },
  {
   "cell_type": "markdown",
   "metadata": {},
   "source": [
    "This makes it possible to then use normal assertions to ensure the correct errors are thrown"
   ]
  },
  {
   "cell_type": "code",
   "execution_count": 5,
   "metadata": {
    "collapsed": false
   },
   "outputs": [
    {
     "data": {
      "text/html": [
       "<div style=\"padding:1px 5px;font-size:14px;color:rgb(0, 226, 0);\">✓ 7ms</div>"
      ],
      "text/plain": [
       "✓ 7ms"
      ]
     },
     "execution_count": 5,
     "metadata": {},
     "output_type": "execute_result"
    }
   ],
   "source": [
    "@assert isa(@catch(error(\"boom\")), ErrorException)"
   ]
  },
  {
   "cell_type": "markdown",
   "metadata": {},
   "source": [
    "If the expression does not throw an error and error is thrown"
   ]
  },
  {
   "cell_type": "code",
   "execution_count": 6,
   "metadata": {
    "collapsed": false
   },
   "outputs": [
    {
     "ename": "LoadError",
     "evalue": "did not throw and error\nwhile loading In[6], in expression starting on line 70",
     "output_type": "error",
     "traceback": [
      "did not throw and error\nwhile loading In[6], in expression starting on line 70",
      "",
      " in error at error.jl:21"
     ]
    }
   ],
   "source": [
    "@catch ErrorException(\"that I forgot to throw\")"
   ]
  },
  {
   "cell_type": "markdown",
   "metadata": {},
   "source": [
    "### test(f::Function, title::String)\n",
    "\n",
    "`test` provides a way of grouping assertions"
   ]
  },
  {
   "cell_type": "code",
   "execution_count": 7,
   "metadata": {
    "collapsed": false
   },
   "outputs": [
    {
     "data": {
      "text/html": [
       "<div style=\"padding:1px 5px;font-size:14px;color:red;\">✗ 175ms</div>"
      ],
      "text/plain": [
       "✗ 175ms"
      ]
     },
     "execution_count": 7,
     "metadata": {},
     "output_type": "execute_result"
    }
   ],
   "source": [
    "test(\"something thats broken\") do\n",
    "  @assert true\n",
    "  @assert false\n",
    "end"
   ]
  },
  {
   "cell_type": "markdown",
   "metadata": {},
   "source": [
    "The result will be a passed assertion only if all the assertions contained in `f` pass."
   ]
  },
  {
   "cell_type": "code",
   "execution_count": 8,
   "metadata": {
    "collapsed": false
   },
   "outputs": [
    {
     "data": {
      "text/html": [
       "<div style=\"padding:1px 5px;font-size:14px;color:rgb(0, 226, 0);\">✓ 4ms</div>"
      ],
      "text/plain": [
       "✓ 4ms"
      ]
     },
     "execution_count": 8,
     "metadata": {},
     "output_type": "execute_result"
    }
   ],
   "source": [
    "test(\"something that works\") do\n",
    "  @assert true\n",
    "  @assert true\n",
    "end"
   ]
  },
  {
   "cell_type": "markdown",
   "metadata": {},
   "source": [
    "Groupings can also be nested arbitrarily deep. Which provides a good way to test complicated functions"
   ]
  },
  {
   "cell_type": "code",
   "execution_count": 9,
   "metadata": {
    "collapsed": false
   },
   "outputs": [
    {
     "data": {
      "text/html": [
       "<div style=\"padding:1px 5px;font-size:14px;color:rgb(0, 226, 0);\">✓ 11ms</div>"
      ],
      "text/plain": [
       "✓ 11ms"
      ]
     },
     "execution_count": 9,
     "metadata": {},
     "output_type": "execute_result"
    }
   ],
   "source": [
    "test(\"something complicated\") do\n",
    "  @assert true\n",
    "  test(\"that has edge cases\") do\n",
    "    @assert true\n",
    "  end\n",
    "end"
   ]
  },
  {
   "cell_type": "markdown",
   "metadata": {},
   "source": [
    "## Examples\n",
    "\n",
    "See [test.jl](test.jl) for a more complete set of API examples. It can be run with `$ ./bin/jest test`"
   ]
  }
 ],
 "metadata": {
  "kernelspec": {
   "display_name": "Julia 0.3.9",
   "language": "julia",
   "name": "julia-0.3"
  },
  "language_info": {
   "name": "julia",
   "version": "0.3.9"
  }
 },
 "nbformat": 4,
 "nbformat_minor": 0
}
